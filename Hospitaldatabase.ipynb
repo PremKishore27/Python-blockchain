{
  "nbformat": 4,
  "nbformat_minor": 0,
  "metadata": {
    "colab": {
      "name": "Hospitaldatabase.ipynb",
      "provenance": []
    },
    "kernelspec": {
      "name": "python3",
      "display_name": "Python 3"
    },
    "language_info": {
      "name": "python"
    }
  },
  "cells": [
    {
      "cell_type": "code",
      "metadata": {
        "colab": {
          "base_uri": "https://localhost:8080/"
        },
        "id": "_T1aN_KYkyxe",
        "outputId": "dc679626-cc52-4538-aacb-0773afb99b28"
      },
      "source": [
        "#creating a dictionary for a hospital database\n",
        "hosp = {\n",
        "    'patientID':\"01\",\n",
        "    'patientName':\"prem\",\n",
        "    'patientGender':\"M\",\n",
        "    'patientAddress':\"Madhavaram chennai\",\n",
        "    'patientPhno':\"8015788048\",\n",
        "    'patientDiagNo':\"001\",\n",
        "    'patientDiagDetails':\"patient stable\",\n",
        "    'patientRemarks':\"no remarks\",\n",
        "    'patientAttendedBy':{\n",
        "        'DoctorName':\"paulson\",\n",
        "        'DoctorGender':\"M\",\n",
        "        'DoctorDEsignation':\"MBBS\",\n",
        "        'DoctorAddress':\"Thiruvanmiyur\"\n",
        "    },\n",
        "    'patientBillDetails':{\n",
        "        'BillNo':\"45\",\n",
        "        'BillAmount':\"9999\",\n",
        "        'PaymentMethod':\"gpay\"\n",
        "    }\n",
        "}\n",
        "print(hosp)"
      ],
      "execution_count": 14,
      "outputs": [
        {
          "output_type": "stream",
          "name": "stdout",
          "text": [
            "{'patientID': '01', 'patientName': 'prem', 'patientGender': 'M', 'patientAddress': 'Madhavaram chennai', 'patientPhno': '8015788048', 'patientDiagNo': '001', 'patientDiagDetails': 'patient stable', 'patientRemarks': 'no remarks', 'patientAttendedBy': {'DoctorName': 'paulson', 'DoctorGender': 'M', 'DoctorDEsignation': 'MBBS', 'DoctorAddress': 'Thiruvanmiyur'}, 'patientBillDetails': {'BillNo': '45', 'BillAmount': '9999', 'PaymentMethod': 'gpay'}}\n"
          ]
        }
      ]
    },
    {
      "cell_type": "code",
      "metadata": {
        "id": "FReqU8sAwz76"
      },
      "source": [
        "#Create blockchain\n",
        "import hashlib\n",
        "class neuralCoinBlock:\n",
        "  def __init__(self,preBlockHash,tranList):\n",
        "    self.preBlockHash=preBlockHash\n",
        "    self.tranList=tranList\n",
        "\n",
        "\n",
        "    self.blockData=\"-\".join(tranList)+\"-\"+preBlockHash\n",
        "    self.blockHash=hashlib.sha256(self.blockData.encode()).hexdigest()"
      ],
      "execution_count": 15,
      "outputs": []
    },
    {
      "cell_type": "code",
      "metadata": {
        "id": "Df-ZLcSXO7MT"
      },
      "source": [
        "t1=\"Create a block\"\n",
        "t2=\"Donate some money\"\n",
        "t3=\"and some coins while your at it\""
      ],
      "execution_count": 16,
      "outputs": []
    },
    {
      "cell_type": "code",
      "metadata": {
        "id": "Bx-Kmkt9O-jF"
      },
      "source": [
        "InitialBlock=neuralCoinBlock(\"Encode Password\",[t1,t2])"
      ],
      "execution_count": 17,
      "outputs": []
    },
    {
      "cell_type": "code",
      "metadata": {
        "colab": {
          "base_uri": "https://localhost:8080/",
          "height": 35
        },
        "id": "uLTPQFjqPCip",
        "outputId": "908447d6-b324-46e0-d0de-69aa533331bf"
      },
      "source": [
        "InitialBlock.blockData"
      ],
      "execution_count": 18,
      "outputs": [
        {
          "output_type": "execute_result",
          "data": {
            "application/vnd.google.colaboratory.intrinsic+json": {
              "type": "string"
            },
            "text/plain": [
              "'Create a block-Donate some money-Encode Password'"
            ]
          },
          "metadata": {},
          "execution_count": 18
        }
      ]
    },
    {
      "cell_type": "code",
      "metadata": {
        "colab": {
          "base_uri": "https://localhost:8080/",
          "height": 35
        },
        "id": "rFhxX1AnPE_J",
        "outputId": "e68976d3-41cd-49cc-94f7-478205fdf5b4"
      },
      "source": [
        "InitialBlock.blockHash"
      ],
      "execution_count": 19,
      "outputs": [
        {
          "output_type": "execute_result",
          "data": {
            "application/vnd.google.colaboratory.intrinsic+json": {
              "type": "string"
            },
            "text/plain": [
              "'b164f59be9dd9937fff465ae4c29a2850f08aed914617e6ca65776b20a48b2b3'"
            ]
          },
          "metadata": {},
          "execution_count": 19
        }
      ]
    },
    {
      "cell_type": "code",
      "metadata": {
        "id": "8x6rSUpCPHwS"
      },
      "source": [
        "SecondBlock=neuralCoinBlock(InitialBlock.blockHash,[t1,t3])"
      ],
      "execution_count": 20,
      "outputs": []
    },
    {
      "cell_type": "code",
      "metadata": {
        "colab": {
          "base_uri": "https://localhost:8080/",
          "height": 35
        },
        "id": "EJC6HoHbPLAw",
        "outputId": "4078d088-64ba-4755-b898-5e058311b3e5"
      },
      "source": [
        "SecondBlock.blockHash"
      ],
      "execution_count": 21,
      "outputs": [
        {
          "output_type": "execute_result",
          "data": {
            "application/vnd.google.colaboratory.intrinsic+json": {
              "type": "string"
            },
            "text/plain": [
              "'b26053d746027fba5a33168ac51475ed8a1da1162deed44f6ad20683d1e1f4f2'"
            ]
          },
          "metadata": {},
          "execution_count": 21
        }
      ]
    },
    {
      "cell_type": "code",
      "metadata": {
        "id": "7WX8WPZuPNp5"
      },
      "source": [
        "ThirdBlock=neuralCoinBlock(SecondBlock.blockHash,hosp)"
      ],
      "execution_count": 22,
      "outputs": []
    },
    {
      "cell_type": "code",
      "metadata": {
        "colab": {
          "base_uri": "https://localhost:8080/",
          "height": 35
        },
        "id": "HhbB1wnTPvIH",
        "outputId": "4930e516-4b0f-4a87-efbc-dc45d0e3faa8"
      },
      "source": [
        "ThirdBlock.blockHash"
      ],
      "execution_count": 23,
      "outputs": [
        {
          "output_type": "execute_result",
          "data": {
            "application/vnd.google.colaboratory.intrinsic+json": {
              "type": "string"
            },
            "text/plain": [
              "'2b0dca0637e17194114b4136b4f777b73400939ebab639a393116a4e04b1ca86'"
            ]
          },
          "metadata": {},
          "execution_count": 23
        }
      ]
    },
    {
      "cell_type": "code",
      "metadata": {
        "id": "0WGxbYimPyhI"
      },
      "source": [
        "#including timestamp library\n",
        "index=[]\n",
        "import datetime\n",
        "import pytz\n",
        "def createBlock(prevHash,data):\n",
        "  b=neuralCoinBlock(prevHash,data)\n",
        "  index.append([b.blockHash,datetime.datetime.now(pytz.timezone('Asia/Kolkata'))])\n",
        "  return b.blockHash"
      ],
      "execution_count": 24,
      "outputs": []
    },
    {
      "cell_type": "code",
      "metadata": {
        "colab": {
          "base_uri": "https://localhost:8080/"
        },
        "id": "j5X18VQTP9i8",
        "outputId": "68a46aaa-d4b1-4ac4-8b86-359954c1644f"
      },
      "source": [
        "createBlock(\"second block\",['askjddjsdh','askdhakjsdghaj'])\n",
        "print(index)"
      ],
      "execution_count": 25,
      "outputs": [
        {
          "output_type": "stream",
          "name": "stdout",
          "text": [
            "[['9fc23f35ef8a9e920c63b03a1a8428cafaee51f2bc8d60bc715ec7098fa33e68', datetime.datetime(2021, 10, 30, 13, 45, 7, 801352, tzinfo=<DstTzInfo 'Asia/Kolkata' IST+5:30:00 STD>)]]\n"
          ]
        }
      ]
    },
    {
      "cell_type": "code",
      "metadata": {
        "id": "Z6Pfy1V8QAew"
      },
      "source": [
        ""
      ],
      "execution_count": null,
      "outputs": []
    }
  ]
}